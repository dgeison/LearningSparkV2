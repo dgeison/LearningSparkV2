{
 "cells": [
  {
   "cell_type": "code",
   "execution_count": 1,
   "metadata": {},
   "outputs": [],
   "source": [
    "# Import the necessary libraries.\n",
    "# Since we are using Python, import the SparkSession and related functions\n",
    "# from the PySpark module.\n",
    "import sys\n",
    "from pyspark.sql import SparkSession"
   ]
  },
  {
   "cell_type": "code",
   "execution_count": 2,
   "metadata": {},
   "outputs": [
    {
     "name": "stderr",
     "output_type": "stream",
     "text": [
      "Usage: mnmcount <file>\n"
     ]
    },
    {
     "ename": "SystemExit",
     "evalue": "-1",
     "output_type": "error",
     "traceback": [
      "An exception has occurred, use %tb to see the full traceback.\n",
      "\u001b[0;31mSystemExit\u001b[0m\u001b[0;31m:\u001b[0m -1\n"
     ]
    },
    {
     "name": "stderr",
     "output_type": "stream",
     "text": [
      "/home/dgeison/projetos/LearningSparkV2/.pyenv/lib/python3.10/site-packages/IPython/core/interactiveshell.py:3513: UserWarning: To exit: use 'exit', 'quit', or Ctrl-D.\n",
      "  warn(\"To exit: use 'exit', 'quit', or Ctrl-D.\", stacklevel=1)\n"
     ]
    }
   ],
   "source": [
    "if __name__ == \"__main__\":\n",
    "   if len(sys.argv) != 2:\n",
    "       print(\"Usage: mnmcount <file>\", file=sys.stderr)\n",
    "       sys.exit(-1)\n",
    "\n",
    "   # Build a SparkSession using the SparkSession APIs.\n",
    "   # If one does not exist, then create an instance. There\n",
    "   # can only be one SparkSession per JVM.\n",
    "   spark = (SparkSession\n",
    "     .builder\n",
    "     .appName(\"PythonMnMCount\")\n",
    "     .getOrCreate())\n",
    "   # Get the M&M data set filename from the command-line arguments\n",
    "   mnm_file = sys.argv[1]\n",
    "   # Read the file into a Spark DataFrame using the CSV\n",
    "   # format by inferring the schema and specifying that the\n",
    "   # file contains a header, which provides column names for comma-\n",
    "   # separated fields.\n",
    "   mnm_df = (spark.read.format(\"csv\") \n",
    "     .option(\"header\", \"true\") \n",
    "     .option(\"inferSchema\", \"true\") \n",
    "     .load(mnm_file))\n",
    "\n",
    "   # We use the DataFrame high-level APIs. Note\n",
    "   # that we don't use RDDs at all. Because some of Spark's \n",
    "   # functions return the same object, we can chain function calls.\n",
    "   # 1. Select from the DataFrame the fields \"State\", \"Color\", and \"Count\"\n",
    "   # 2. Since we want to group each state and its M&M color count,\n",
    "   #    we use groupBy()\n",
    "   # 3. Aggregate counts of all colors and groupBy() State and Color\n",
    "   # 4  orderBy() in descending order\n",
    "   count_mnm_df = (mnm_df\n",
    "     .select(\"State\", \"Color\", \"Count\")\n",
    "     .groupBy(\"State\", \"Color\")\n",
    "     .sum(\"Count\")\n",
    "     .orderBy(\"sum(Count)\", ascending=False))\n",
    "   # Show the resulting aggregations for all the states and colors;\n",
    "   # a total count of each color per state.\n",
    "   # Note show() is an action, which will trigger the above\n",
    "   # query to be executed.\n",
    "   count_mnm_df.show(n=60, truncate=False)\n",
    "   print(\"Total Rows = %d\" % (count_mnm_df.count()))\n",
    "   # While the above code aggregated and counted for all \n",
    "   # the states, what if we just want to see the data for \n",
    "   # a single state, e.g., CA? \n",
    "   # 1. Select from all rows in the DataFrame\n",
    "   # 2. Filter only CA state\n",
    "   # 3. groupBy() State and Color as we did above\n",
    "   # 4. Aggregate the counts for each color\n",
    "   # 5. orderBy() in descending order  \n",
    "   # Find the aggregate count for California by filtering\n",
    "   ca_count_mnm_df = (mnm_df\n",
    "     .select(\"State\", \"Color\", \"Count\")\n",
    "     .where(mnm_df.State == \"CA\")\n",
    "     .groupBy(\"State\", \"Color\")\n",
    "     .sum(\"Count\")\n",
    "     .orderBy(\"sum(Count)\", ascending=False))\n",
    "   # Show the resulting aggregation for California.\n",
    "   # As above, show() is an action that will trigger the execution of the\n",
    "   # entire computation. \n",
    "   ca_count_mnm_df.show(n=10, truncate=False)\n",
    "   # Stop the SparkSession\n",
    "   spark.stop()"
   ]
  },
  {
   "cell_type": "code",
   "execution_count": null,
   "metadata": {},
   "outputs": [],
   "source": []
  }
 ],
 "metadata": {
  "kernelspec": {
   "display_name": ".pyenv",
   "language": "python",
   "name": "python3"
  },
  "language_info": {
   "codemirror_mode": {
    "name": "ipython",
    "version": 3
   },
   "file_extension": ".py",
   "mimetype": "text/x-python",
   "name": "python",
   "nbconvert_exporter": "python",
   "pygments_lexer": "ipython3",
   "version": "3.10.6"
  },
  "orig_nbformat": 4
 },
 "nbformat": 4,
 "nbformat_minor": 2
}
