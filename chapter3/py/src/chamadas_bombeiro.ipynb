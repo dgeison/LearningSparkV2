{
 "cells": [
  {
   "cell_type": "code",
   "execution_count": 1,
   "metadata": {},
   "outputs": [],
   "source": [
    "# In Python, define a schema\n",
    "from pyspark.sql.types import *\n",
    "from pyspark.sql import SparkSession\n",
    "from pyspark.sql.functions import col"
   ]
  },
  {
   "cell_type": "code",
   "execution_count": 2,
   "metadata": {},
   "outputs": [
    {
     "name": "stderr",
     "output_type": "stream",
     "text": [
      "your 131072x1 screen size is bogus. expect trouble\n",
      "23/04/16 19:37:24 WARN Utils: Your hostname, pc-branco resolves to a loopback address: 127.0.1.1; using 172.20.88.244 instead (on interface eth0)\n",
      "23/04/16 19:37:24 WARN Utils: Set SPARK_LOCAL_IP if you need to bind to another address\n",
      "Setting default log level to \"WARN\".\n",
      "To adjust logging level use sc.setLogLevel(newLevel). For SparkR, use setLogLevel(newLevel).\n",
      "23/04/16 19:37:26 WARN NativeCodeLoader: Unable to load native-hadoop library for your platform... using builtin-java classes where applicable\n"
     ]
    }
   ],
   "source": [
    "spark = SparkSession.builder.appName(\"Authors\").getOrCreate()"
   ]
  },
  {
   "cell_type": "code",
   "execution_count": 3,
   "metadata": {},
   "outputs": [],
   "source": [
    "# Programmatic way to define a schema\n",
    "fire_schema = StructType(\n",
    "    [\n",
    "        StructField(\"CallNumber\", IntegerType(), True),\n",
    "        StructField(\"UnitID\", StringType(), True),\n",
    "        StructField(\"IncidentNumber\", IntegerType(), True),\n",
    "        StructField(\"CallType\", StringType(), True),\n",
    "        StructField(\"CallDate\", StringType(), True),\n",
    "        StructField(\"WatchDate\", StringType(), True),\n",
    "        StructField(\"CallFinalDisposition\", StringType(), True),\n",
    "        StructField(\"AvailableDtTm\", StringType(), True),\n",
    "        StructField(\"Address\", StringType(), True),\n",
    "        StructField(\"City\", StringType(), True),\n",
    "        StructField(\"Zipcode\", IntegerType(), True),\n",
    "        StructField(\"Battalion\", StringType(), True),\n",
    "        StructField(\"StationArea\", StringType(), True),\n",
    "        StructField(\"Box\", StringType(), True),\n",
    "        StructField(\"OriginalPriority\", StringType(), True),\n",
    "        StructField(\"Priority\", StringType(), True),\n",
    "        StructField(\"FinalPriority\", IntegerType(), True),\n",
    "        StructField(\"ALSUnit\", BooleanType(), True),\n",
    "        StructField(\"CallTypeGroup\", StringType(), True),\n",
    "        StructField(\"NumAlarms\", IntegerType(), True),\n",
    "        StructField(\"UnitType\", StringType(), True),\n",
    "        StructField(\"UnitSequenceInCallDispatch\", IntegerType(), True),\n",
    "        StructField(\"FirePreventionDistrict\", StringType(), True),\n",
    "        StructField(\"SupervisorDistrict\", StringType(), True),\n",
    "        StructField(\"Neighborhood\", StringType(), True),\n",
    "        StructField(\"Location\", StringType(), True),\n",
    "        StructField(\"RowID\", StringType(), True),\n",
    "        StructField(\"Delay\", FloatType(), True),\n",
    "    ]\n",
    ")\n"
   ]
  },
  {
   "cell_type": "code",
   "execution_count": 4,
   "metadata": {},
   "outputs": [
    {
     "name": "stderr",
     "output_type": "stream",
     "text": [
      "23/04/16 19:37:30 WARN package: Truncated the string representation of a plan since it was too large. This behavior can be adjusted by setting 'spark.sql.debug.maxToStringFields'.\n"
     ]
    },
    {
     "name": "stdout",
     "output_type": "stream",
     "text": [
      "+----------+------+--------------+--------------------+----------+----------+--------------------+--------------------+--------------------+----+-------+---------+-----------+----+----------------+--------+-------------+-------+-------------+---------+--------------+--------------------------+----------------------+------------------+--------------------+--------------------+-------------+----------+\n",
      "|CallNumber|UnitID|IncidentNumber|            CallType|  CallDate| WatchDate|CallFinalDisposition|       AvailableDtTm|             Address|City|Zipcode|Battalion|StationArea| Box|OriginalPriority|Priority|FinalPriority|ALSUnit|CallTypeGroup|NumAlarms|      UnitType|UnitSequenceInCallDispatch|FirePreventionDistrict|SupervisorDistrict|        Neighborhood|            Location|        RowID|     Delay|\n",
      "+----------+------+--------------+--------------------+----------+----------+--------------------+--------------------+--------------------+----+-------+---------+-----------+----+----------------+--------+-------------+-------+-------------+---------+--------------+--------------------------+----------------------+------------------+--------------------+--------------------+-------------+----------+\n",
      "|  20110016|   T13|       2003235|      Structure Fire|01/11/2002|01/10/2002|               Other|01/11/2002 01:51:...|2000 Block of CAL...|  SF|  94109|      B04|         38|3362|               3|       3|            3|  false|         null|        1|         TRUCK|                         2|                     4|                 5|     Pacific Heights|(37.7895840679362...|020110016-T13|      2.95|\n",
      "|  20110022|   M17|       2003241|    Medical Incident|01/11/2002|01/10/2002|               Other|01/11/2002 03:01:...|0 Block of SILVER...|  SF|  94124|      B10|         42|6495|               3|       3|            3|   true|         null|        1|         MEDIC|                         1|                    10|                10|Bayview Hunters P...|(37.7337623673897...|020110022-M17|       4.7|\n",
      "|  20110023|   M41|       2003242|    Medical Incident|01/11/2002|01/10/2002|               Other|01/11/2002 02:39:...|MARKET ST/MCALLIS...|  SF|  94102|      B03|         01|1455|               3|       3|            3|   true|         null|        1|         MEDIC|                         2|                     3|                 6|          Tenderloin|(37.7811772186856...|020110023-M41| 2.4333334|\n",
      "|  20110032|   E11|       2003250|        Vehicle Fire|01/11/2002|01/10/2002|               Other|01/11/2002 04:16:...|APPLETON AV/MISSI...|  SF|  94110|      B06|         32|5626|               3|       3|            3|  false|         null|        1|        ENGINE|                         1|                     6|                 9|      Bernal Heights|(37.7388432849018...|020110032-E11|       1.5|\n",
      "|  20110043|   B04|       2003259|              Alarms|01/11/2002|01/10/2002|               Other|01/11/2002 06:01:...|1400 Block of SUT...|  SF|  94109|      B04|         03|3223|               3|       3|            3|  false|         null|        1|         CHIEF|                         2|                     4|                 2|    Western Addition|(37.7872890372638...|020110043-B04| 3.4833333|\n",
      "|  20110072|   T08|       2003279|      Structure Fire|01/11/2002|01/11/2002|               Other|01/11/2002 08:03:...|  BEALE ST/FOLSOM ST|  SF|  94105|      B03|         35|2122|               3|       3|            3|  false|         null|        1|         TRUCK|                         2|                     3|                 6|Financial Distric...|(37.7886866619654...|020110072-T08|      1.75|\n",
      "|  20110125|   E33|       2003301|              Alarms|01/11/2002|01/11/2002|               Other|01/11/2002 09:46:...|0 Block of FARALL...|  SF|  94112|      B09|         33|8324|               3|       3|            3|  false|         null|        1|        ENGINE|                         2|                     9|                11|Oceanview/Merced/...|(37.7140353531157...|020110125-E33| 2.7166667|\n",
      "|  20110130|   E36|       2003304|              Alarms|01/11/2002|01/11/2002|               Other|01/11/2002 09:58:...|600 Block of POLK ST|  SF|  94102|      B02|         03|3114|               3|       3|            3|  false|         null|        1|        ENGINE|                         1|                     2|                 6|          Tenderloin|(37.7826266328595...|020110130-E36| 1.7833333|\n",
      "|  20110197|   E05|       2003343|    Medical Incident|01/11/2002|01/11/2002|               Other|01/11/2002 12:06:...|1500 Block of WEB...|  SF|  94115|      B04|         05|3513|               3|       3|            3|  false|         null|        1|        ENGINE|                         1|                     4|                 5|           Japantown|(37.784958590666,...|020110197-E05| 1.5166667|\n",
      "|  20110215|   E06|       2003348|    Medical Incident|01/11/2002|01/11/2002|               Other|01/11/2002 01:08:...|DIAMOND ST/MARKET ST|  SF|  94114|      B05|         06|5415|               3|       3|            3|  false|         null|        1|        ENGINE|                         1|                     5|                 8| Castro/Upper Market|(37.7618954753708...|020110215-E06| 2.7666667|\n",
      "|  20110274|   M07|       2003381|    Medical Incident|01/11/2002|01/11/2002|               Other|01/11/2002 03:31:...|2700 Block of MIS...|  SF|  94110|      B06|         11|5525|               1|       1|            2|   true|         null|        1|         MEDIC|                         1|                     6|                 9|             Mission|(37.7530339738059...|020110274-M07| 2.1833334|\n",
      "|  20110275|   T15|       2003382|      Structure Fire|01/11/2002|01/11/2002|               Other|01/11/2002 02:59:...|BRUNSWICK ST/GUTT...|  SF|  94112|      B09|         43|6218|               3|       3|            3|  false|         null|        1|         TRUCK|                         1|                     9|                11|           Excelsior|(37.7105545807996...|020110275-T15|       2.5|\n",
      "|  20110304|   E03|       2003399|    Medical Incident|01/11/2002|01/11/2002|               Other|01/11/2002 04:22:...|1000 Block of SUT...|  SF|  94109|      B04|         03|1557|               3|       3|            3|  false|         null|        1|        ENGINE|                         1|                     4|                 3|            Nob Hill|(37.7881263034393...|020110304-E03| 2.4166667|\n",
      "|  20110308|   E14|       2003403|    Medical Incident|01/11/2002|01/11/2002|               Other|01/11/2002 04:18:...|100 Block of 21ST...|  SF|  94121|      B07|         14|7173|               3|       3|            3|  false|         null|        1|        ENGINE|                         1|                     7|                 1|      Outer Richmond|(37.7850084431077...|020110308-E14|      4.95|\n",
      "|  20110313|   B10|       2003408|      Structure Fire|01/11/2002|01/11/2002|               Other|01/11/2002 04:09:...|700 Block of CAPP ST|  SF|  94110|      B06|         07|5472|               3|       3|            3|  false|         null|        1|         CHIEF|                         6|                     6|                 9|             Mission|(37.7547064357942...|020110313-B10| 1.4166666|\n",
      "|  20110313|    D3|       2003408|      Structure Fire|01/11/2002|01/11/2002|               Other|01/11/2002 04:09:...|700 Block of CAPP ST|  SF|  94110|      B06|         07|5472|               3|       3|            3|  false|         null|        1|         CHIEF|                         4|                     6|                 9|             Mission|(37.7547064357942...| 020110313-D3| 2.5333333|\n",
      "|  20110313|   E32|       2003408|      Structure Fire|01/11/2002|01/11/2002|               Other|01/11/2002 04:09:...|700 Block of CAPP ST|  SF|  94110|      B06|         07|5472|               3|       3|            3|   true|         null|        1|        ENGINE|                         8|                     6|                 9|             Mission|(37.7547064357942...|020110313-E32| 1.8833333|\n",
      "|  20110315|   RC2|       2003409|    Medical Incident|01/11/2002|01/11/2002|               Other|01/11/2002 04:34:...|200 Block of LAGU...|  SF|  94116|      B08|         20|8635|               3|       3|            3|   true|         null|        1|RESCUE CAPTAIN|                         2|                     8|                 7|  West of Twin Peaks|(37.7501117393668...|020110315-RC2|      5.35|\n",
      "|  20110330|   E14|       2003417|    Medical Incident|01/11/2002|01/11/2002|               Other|01/11/2002 04:51:...|BALBOA ST/PARK PR...|  SF|  94118|      B07|         31|7145|               3|       3|            3|  false|         null|        1|        ENGINE|                         1|                     7|                 1|      Inner Richmond|(37.7768682293368...|020110330-E14|       2.0|\n",
      "|  20110330|   M12|       2003417|    Medical Incident|01/11/2002|01/11/2002|               Other|01/11/2002 04:51:...|BALBOA ST/PARK PR...|  SF|  94118|      B07|         31|7145|               3|       3|            3|   true|         null|        1|         MEDIC|                         2|                     7|                 1|      Inner Richmond|(37.7768682293368...|020110330-M12| 1.8166667|\n",
      "|  20110344|   T06|       2003429|Odor (Strange / U...|01/11/2002|01/11/2002|               Other|01/11/2002 05:17:...|2300 Block of MAR...|  SF|  94114|      B05|         06|5233|               3|       3|            3|  false|         null|        1|         TRUCK|                         2|                     5|                 8| Castro/Upper Market|(37.7635007029742...|020110344-T06| 2.0833333|\n",
      "|  20110350|   M41|       2003435|    Medical Incident|01/11/2002|01/11/2002|               Other|01/11/2002 05:46:...|500 Block of BROA...|  SF|  94133|      B01|         02|1311|               2|       2|            2|   true|         null|        1|         MEDIC|                         1|                     1|                 3|         North Beach|(37.7980228452184...|020110350-M41| 4.4666667|\n",
      "|  20110375|   B05|       2003453|              Alarms|01/11/2002|01/11/2002|               Other|01/11/2002 06:48:...|100 Block of JOHN...|  SF|  94131|      B05|         20|5278|               3|       3|            3|  false|         null|        1|         CHIEF|                         3|                     5|                 7|        Inner Sunset|(37.7585821585787...|020110375-B05|       1.8|\n",
      "|  20110425|   B01|       2003497|      Structure Fire|01/11/2002|01/11/2002|               Other|01/11/2002 09:03:...|600 Block of OFAR...|  SF|  94109|      B04|         03|1544|               3|       3|            3|  false|         null|        1|         CHIEF|                         4|                     4|                 6|          Tenderloin|(37.7854670505017...|020110425-B01| 2.5666666|\n",
      "|  20110428|   M28|       2003500|    Medical Incident|01/11/2002|01/11/2002|               Other|01/11/2002 10:08:...|1000 Block of BAT...|  SF|  94111|      B01|         13|1153|               3|       3|            3|   true|         null|        1|         MEDIC|                         2|                     1|                 3|Financial Distric...|(37.8006802692983...|020110428-M28| 3.8833334|\n",
      "|  20110467|   T19|       2003529|    Medical Incident|01/11/2002|01/11/2002|               Other|01/11/2002 10:56:...|3000 Block of 23R...|  SF|  94132|      B08|         19|8734|               3|       3|            3|  false|         null|        1|         TRUCK|                         1|                     8|                 7|     Sunset/Parkside|(37.7318470441445...|020110467-T19|       3.3|\n",
      "|  20120016|   E43|       2003550|    Medical Incident|01/12/2002|01/11/2002|               Other|01/12/2002 02:04:...|0 Block of BLYTHD...|  SF|  94134|      B09|         43|6244|               3|       3|            3|   true|         null|        1|        ENGINE|                         2|                     9|                10|   Visitacion Valley|(37.7106587183839...|020120016-E43|       3.1|\n",
      "|  20120020|   E36|       2003554|      Structure Fire|01/12/2002|01/11/2002|               Other|01/12/2002 01:56:...|    9TH ST/HOWARD ST|  SF|  94103|      B02|         36|2335|               3|       3|            3|  false|         null|        1|        ENGINE|                         1|                     2|                 6|     South of Market|(37.7749917496069...|020120020-E36| 3.3333333|\n",
      "|  20120044|   M10|       2003576|    Medical Incident|01/12/2002|01/11/2002|               Other|01/12/2002 04:17:...|3800 Block of GEA...|  SF|  94118|      B07|         31|7113|               3|       3|            3|   true|         null|        1|         MEDIC|                         2|                     7|                 1|      Inner Richmond|(37.7813145272908...|020120044-M10| 3.9666667|\n",
      "|  20120045|   E21|       2003577|    Medical Incident|01/12/2002|01/11/2002|               Other|01/12/2002 04:23:...|300 Block of BAKE...|  SF|  94117|      B05|         21|4252|               3|       3|            3|  false|         null|        1|        ENGINE|                         1|                     5|                 5|   Lone Mountain/USF|(37.7740926787047...|020120045-E21|      3.25|\n",
      "|  20120052|   M36|       2003584|    Medical Incident|01/12/2002|01/11/2002|               Other|01/12/2002 06:27:...|400 Block of VALE...|  SF|  94103|      B02|         06|5226|               3|       3|            3|   true|         null|        1|         MEDIC|                         2|                     2|                 9|             Mission|(37.7661343875141...|020120052-M36| 4.2833333|\n",
      "|  20120061|   M10|       2003593|    Medical Incident|01/12/2002|01/11/2002|               Other|                null|0 Block of TERRA ...|  SF|  94115|      B05|         21|4256|               3|       3|            3|   true|         null|        1|         MEDIC|                         1|                     5|                 2|   Lone Mountain/USF|(37.7814248717141...|020120061-M10|       2.3|\n",
      "|  20120111|   E18|       2003618|Odor (Strange / U...|01/12/2002|01/12/2002|               Other|01/12/2002 11:07:...|2000 Block of 34T...|  SF|  94116|      B08|         18|7556|               3|       3|            3|  false|         null|        1|        ENGINE|                         2|                     8|                 4|     Sunset/Parkside|(37.7488650921071...|020120111-E18|       2.8|\n",
      "|  20120127|   M38|       2003630|    Medical Incident|01/12/2002|01/12/2002|               Other|01/12/2002 11:28:...|LAGUNA ST/WASHING...|  SF|  94109|      B04|         38|3361|               3|       3|            3|   true|         null|        1|         MEDIC|                         1|                     4|                 2|     Pacific Heights|(37.7922168970615...|020120127-M38| 2.3833334|\n",
      "|  20120142|   E07|       2003639|    Medical Incident|01/12/2002|01/12/2002|               Other|01/12/2002 12:15:...|600 Block of SOUT...|  SF|  94110|      B02|         07|5246|               3|       3|            3|  false|         null|        1|        ENGINE|                         1|                     2|                 9|             Mission|(37.7627737268131...|020120142-E07|      2.45|\n",
      "|  20120147|   M38|       2003642|    Medical Incident|01/12/2002|01/12/2002|               Other|01/12/2002 01:23:...|1300 Block of HYD...|  SF|  94109|      B01|         41|1564|               1|       1|            2|   true|         null|        1|         MEDIC|                         1|                     1|                 3|        Russian Hill|(37.793235074749,...|020120147-M38|      6.25|\n",
      "|  20120149|   M01|       2003643|    Medical Incident|01/12/2002|01/12/2002|               Other|01/12/2002 01:05:...|  16TH ST/MISSION ST|  SF|  94103|      B02|         07|5236|               1|       1|            2|   true|         null|        1|         MEDIC|                         1|                     2|                 9|             Mission|(37.7650513381945...|020120149-M01| 3.6166666|\n",
      "|  20120153|   M41|       2003647|    Medical Incident|01/12/2002|01/12/2002|               Other|01/12/2002 02:20:...|500 Block of 30TH...|  SF|  94121|      B07|         14|0722|               3|       3|            3|   true|         null|        1|         MEDIC|                         2|                     7|                 1|      Outer Richmond|(37.7788847355525...|020120153-M41|      4.65|\n",
      "|  20120155|   B08|       2003649|Odor (Strange / U...|01/12/2002|01/12/2002|               Other|01/12/2002 01:03:...|1500 Block of 5TH...|  SF|  94122|      B08|         12|7328|               3|       3|            3|  false|         null|        1|         CHIEF|                         3|                     8|                 7|        Inner Sunset|(37.7598374406709...|020120155-B08| 4.1833334|\n",
      "|  20120166|   E01|       2003656|    Medical Incident|01/12/2002|01/12/2002|               Other|01/12/2002 01:22:...|   4TH ST/MISSION ST|  SF|  94103|      B03|         01|2213|               3|       3|            3|  false|         null|        1|        ENGINE|                         1|                     3|                 6|     South of Market|(37.7844787439707...|020120166-E01|      1.95|\n",
      "|  20120210|   E44|       2003688|    Medical Incident|01/12/2002|01/12/2002|               Other|01/12/2002 04:25:...|0 Block of AQUAVI...|  SF|  94131|      B09|         20|5362|               3|       3|            3|   true|         null|        1|        ENGINE|                         1|                     8|                 7|          Twin Peaks|(37.752557468944,...|020120210-E44|      3.55|\n",
      "|  20120217|   M03|       2003695|      Structure Fire|01/12/2002|01/12/2002|               Other|01/12/2002 04:46:...|400 Block of TURK ST|  SF|  94102|      B02|         03|1554|               3|       3|            3|   true|         null|        1|         MEDIC|                         3|                     2|                 6|          Tenderloin|(37.7825569563078...|020120217-M03| 1.5666667|\n",
      "|  20120254|   M17|       2003724|    Medical Incident|01/12/2002|01/12/2002|               Other|01/12/2002 07:15:...|0 Block of REARDO...|  SF|  94124|      B10|         17|6625|               3|       3|            3|   true|         null|        1|         MEDIC|                         2|                    10|                10|Bayview Hunters P...|(37.7294407135003...|020120254-M17| 2.7833333|\n",
      "|  20120268|   M07|       2003735|    Medical Incident|01/12/2002|01/12/2002|               Other|01/12/2002 07:26:...|1800 Block of SIL...|  SF|  94134|      B09|         43|6153|               3|       3|            3|   true|         null|        1|         MEDIC|                         2|                     9|                 9|           Excelsior|(37.7264150130988...|020120268-M07| 4.5333333|\n",
      "|  20120295|   B05|       2003756|              Alarms|01/12/2002|01/12/2002|               Other|01/12/2002 07:54:...|500 Block of STEI...|  SF|  94117|      B05|         21|3632|               3|       3|            3|  false|         null|        1|         CHIEF|                         2|                     5|                 5|        Hayes Valley|(37.7742331365027...|020120295-B05| 2.0833333|\n",
      "|  20120309|   M05|       2003769|    Medical Incident|01/12/2002|01/12/2002|               Other|01/12/2002 09:14:...|   OAK ST/WEBSTER ST|  SF|  94102|      B02|         05|3523|               3|       3|            3|   true|         null|        1|         MEDIC|                         2|                     2|                 5|        Hayes Valley|(37.774181421555,...|020120309-M05|      1.25|\n",
      "|  20120311|   E07|       2003770|Smoke Investigati...|01/12/2002|01/12/2002|               Other|01/12/2002 08:44:...|900 Block of SHOT...|  SF|  94110|      B06|         07|0544|               3|       3|            3|  false|         null|        1|        ENGINE|                         1|                     6|                 9|             Mission|(37.7532406253685...|020120311-E07| 2.1166666|\n",
      "|  20120322|    D2|       2003777|      Structure Fire|01/12/2002|01/12/2002|               Other|01/12/2002 09:14:...| 0 Block of JONES ST|  SF|  94102|      B03|         01|1455|               3|       3|            3|  false|         null|        1|         CHIEF|                         6|                     2|                 6|          Tenderloin|(37.7815955871561...| 020120322-D2| 1.9333333|\n",
      "|  20120350|   E03|       2003800|    Medical Incident|01/12/2002|01/12/2002|               Other|01/12/2002 11:19:...|400 Block of EDDY ST|  SF|  94102|      B02|         03|1545|               3|       3|            3|  false|         null|        1|        ENGINE|                         2|                     2|                 6|          Tenderloin|(37.7835654755497...|020120350-E03| 3.1666667|\n",
      "|  20130009|   E37|       2003814|    Medical Incident|01/13/2002|01/12/2002|               Other|01/13/2002 01:05:...|1000 Block of DE ...|  SF|  94107|      B10|         37|2561|               3|       3|            3|   true|         null|        1|        ENGINE|                         1|                    10|                10|        Potrero Hill|(37.7559025882179...|020130009-E37|  4.766667|\n",
      "|  20130010|   E18|       2003815|    Medical Incident|01/13/2002|01/12/2002|               Other|01/13/2002 01:08:...|2700 Block of 38T...|  SF|  94116|      B08|         18|7616|               3|       3|            3|  false|         null|        1|        ENGINE|                         2|                     8|                 4|     Sunset/Parkside|(37.7356360325796...|020130010-E18|      3.45|\n",
      "|  20130013|   M03|       2003818|    Medical Incident|01/13/2002|01/12/2002|               Other|01/13/2002 01:51:...|800 Block of LARK...|  SF|  94109|      B04|         03|1642|               2|       2|            2|   true|         null|        1|         MEDIC|                         1|                     4|                 6|          Tenderloin|(37.7858627664608...|020130013-M03|       5.2|\n",
      "|  20130040|   E35|       2003843|    Medical Incident|01/13/2002|01/12/2002|               Other|01/13/2002 03:35:...|500 Block of HARR...|  SF|  94105|      B03|         35|2136|               3|       3|            3|  false|         null|        1|        ENGINE|                         1|                     3|                 6|Financial Distric...|(37.7855694880471...|020130040-E35| 3.5333333|\n",
      "|  20130045|   RS1|       2003848|    Medical Incident|01/13/2002|01/12/2002|               Other|01/13/2002 03:56:...|300 Block of CLEM...|  SF|  94103|      B03|         01|2215|               3|       3|            3|  false|         null|        1|  RESCUE SQUAD|                         2|                     3|                 6|     South of Market|(37.7820387146172...|020130045-RS1| 4.6666665|\n",
      "|  20130086|   T11|       2003876|    Medical Incident|01/13/2002|01/13/2002|               Other|01/13/2002 08:35:...|2900 Block of MIS...|  SF|  94110|      B06|         11|5613|               3|       3|            3|   true|         null|        1|         TRUCK|                         2|                     6|                 9|             Mission|(37.7498446220826...|020130086-T11|      1.55|\n",
      "|  20130095|   M43|       2003880|    Medical Incident|01/13/2002|01/13/2002|               Other|01/13/2002 10:01:...|0 Block of NAPLES ST|  SF|  94112|      B09|         32|6143|               3|       3|            3|   true|         null|        1|         MEDIC|                         2|                     9|                11|           Excelsior|(37.7278485543492...|020130095-M43| 1.4666667|\n",
      "|  20130106|   RS2|       2003887|      Structure Fire|01/13/2002|01/13/2002|               Other|01/13/2002 09:38:...|   22ND ST/CHURCH ST|  SF|  94114|      B06|         11|5467|               3|       3|            3|  false|         null|        1|  RESCUE SQUAD|                         8|                     6|                 8|          Noe Valley|(37.7548967204015...|020130106-RS2|      3.05|\n",
      "|  20130142|   E08|       2003916|               Other|01/13/2002|01/13/2002|               Other|01/13/2002 12:34:...|800 Block of HARR...|  SF|  94107|      B03|         08|2243|               3|       3|            3|  false|         null|        1|        ENGINE|                         1|                     3|                 6|     South of Market|(37.7799507434806...|020130142-E08| 4.9333334|\n",
      "|  20130149|   B01|       2003922|              Alarms|01/13/2002|01/13/2002|               Other|01/13/2002 12:39:...|400 Block of LEAV...|  SF|  94109|      B04|         03|1544|               3|       3|            3|  false|         null|        1|         CHIEF|                         2|                     2|                 6|          Tenderloin|(37.7851111081788...|020130149-B01|       1.8|\n",
      "|  20130154|   E03|       2003926|              Alarms|01/13/2002|01/13/2002|               Other|01/13/2002 01:01:...|400 Block of LEAV...|  SF|  94109|      B04|         03|1544|               3|       3|            3|  false|         null|        1|        ENGINE|                         1|                     2|                 6|          Tenderloin|(37.7851111081788...|020130154-E03| 3.0166667|\n",
      "|  20130204|   T05|       2003962|              Alarms|01/13/2002|01/13/2002|               Other|01/13/2002 02:42:...| 500 Block of OAK ST|  SF|  94102|      B02|         05|3523|               3|       3|            3|  false|         null|        1|         TRUCK|                         2|                     2|                 5|        Hayes Valley|(37.7742307091945...|020130204-T05| 1.9833333|\n",
      "|  20130208|   M17|       2003965|    Medical Incident|01/13/2002|01/13/2002|               Other|01/13/2002 03:22:...| BOYLSTON ST/HALE ST|  SF|  94134|      B10|         42|6365|               3|       3|            3|   true|         null|        1|         MEDIC|                         3|                     9|                 9|             Portola|(37.7314787762164...|020130208-M17|       1.7|\n",
      "|  20130210|   M28|       2003967|    Medical Incident|01/13/2002|01/13/2002|               Other|01/13/2002 03:07:...|700 Block of BROA...|  SF|  94133|      B01|         02|1353|               3|       3|            3|   true|         null|        1|         MEDIC|                         2|                     1|                 3|           Chinatown|(37.7976146082072...|020130210-M28|       2.5|\n",
      "|  20130223|   T01|       2003979|              Alarms|01/13/2002|01/13/2002|               Other|01/13/2002 03:39:...|700 Block of MARK...|  SF|  94103|      B03|         01|2211|               3|       3|            3|  false|         null|        1|         TRUCK|                         3|                     3|                 6|Financial Distric...|(37.7871160984672...|020130223-T01| 2.3333333|\n",
      "|  20130252|   M36|       2004003|    Medical Incident|01/13/2002|01/13/2002|               Other|01/13/2002 04:50:...|HAIGHT ST/OCTAVIA ST|  SF|  94102|      B02|         36|3313|               3|       3|            3|   true|         null|        1|         MEDIC|                         2|                     2|                 5|        Hayes Valley|(37.772957392567,...|020130252-M36|       1.8|\n",
      "|  20130255|   M07|       2004006|    Medical Incident|01/13/2002|01/13/2002|               Other|01/13/2002 05:13:...|  24TH ST/ALABAMA ST|  SF|  94110|      B06|         07|5527|               3|       3|            3|   true|         null|        1|         MEDIC|                         1|                     6|                 9|             Mission|(37.7526848900219...|020130255-M07|       1.8|\n",
      "|  20130258|   RC4|       2004009|    Medical Incident|01/13/2002|01/13/2002|               Other|01/13/2002 05:16:...|200 Block of CRES...|  SF|  94127|      B09|         39|8256|               E|       E|            3|   true|         null|        1|RESCUE CAPTAIN|                         4|                     9|                 7|  West of Twin Peaks|(37.735631914703,...|020130258-RC4|       3.1|\n",
      "|  20130330|   B08|       2004070|      Structure Fire|01/13/2002|01/13/2002|               Other|01/13/2002 09:10:...|6300 Block of CAL...|  SF|  94121|      B07|         14|7214|               3|       3|            3|  false|         null|        1|         CHIEF|                         7|                     7|                 1|      Outer Richmond|(37.7838030202773...|020130330-B08|      4.55|\n",
      "|  20130330|   T14|       2004070|      Structure Fire|01/13/2002|01/13/2002|               Other|01/13/2002 09:22:...|6300 Block of CAL...|  SF|  94121|      B07|         14|7214|               3|       3|            3|  false|         null|        1|         TRUCK|                         4|                     7|                 1|      Outer Richmond|(37.7838030202773...|020130330-T14| 2.8666666|\n",
      "|  20130331|   T11|       2004071|    Medical Incident|01/13/2002|01/13/2002|               Other|01/13/2002 09:23:...|900 Block of DIAM...|  SF|  94114|      B06|         24|5521|               3|       3|            3|   true|         null|        1|         TRUCK|                         1|                     6|                 8|          Noe Valley|(37.7499583474478...|020130331-T11| 3.3333333|\n",
      "|  20130352|   B05|       2004089|              Alarms|01/13/2002|01/13/2002|               Other|01/13/2002 11:00:...|1800 Block of GOL...|  SF|  94115|      B05|         21|4242|               3|       3|            3|  false|         null|        1|         CHIEF|                         2|                     5|                 5|    Western Addition|(37.7783512875178...|020130352-B05| 1.7333333|\n",
      "|  20130354|   E14|       2004091|        Outside Fire|01/13/2002|01/13/2002|               Other|01/13/2002 11:16:...|   28TH AV/BALBOA ST|  SF|  94121|      B07|         14|7225|               3|       3|            3|  false|         null|        1|        ENGINE|                         1|                     7|                 1|      Outer Richmond|(37.7761552340808...|020130354-E14| 1.2166667|\n",
      "|  20140010|   E33|       2004108|    Medical Incident|01/14/2002|01/13/2002|               Other|01/14/2002 01:32:...|500 Block of GARF...|  SF|  94132|      B09|         33|8432|               3|       3|            3|  false|         null|        1|        ENGINE|                         1|                     9|                11|Oceanview/Merced/...|(37.7197236320858...|020140010-E33| 3.6333334|\n",
      "|  20140023|   M38|       2004119|    Medical Incident|01/14/2002|01/13/2002|               Other|01/14/2002 03:42:...|1200 Block of FIL...|  SF|  94115|      B05|         05|3535|               3|       3|            3|   true|         null|        1|         MEDIC|                         2|                     5|                 5|    Western Addition|(37.7809710233586...|020140023-M38| 3.9166667|\n",
      "|  20140065|   E02|       2004151|    Medical Incident|01/14/2002|01/13/2002|               Other|01/14/2002 08:09:...|BROADWAY/COLUMBUS AV|  SF|  94133|      B01|         02|1311|               3|       3|            3|  false|         null|        1|        ENGINE|                         1|                     1|                 3|           Chinatown|(37.7978646128064...|020140065-E02| 3.2666667|\n",
      "|  20140067|   T19|       2004152|Citizen Assist / ...|01/14/2002|01/14/2002|               Other|01/14/2002 08:16:...|2900 Block of 22N...|  SF|  94132|      B08|         19|8732|               3|       3|            3|  false|         null|        1|         TRUCK|                         1|                     8|                 7|     Sunset/Parkside|(37.7335645188552...|020140067-T19|       5.6|\n",
      "|  20140082|   T10|       2004160|      Structure Fire|01/14/2002|01/14/2002|               Other|01/14/2002 08:47:...|BEATRICE LN/ESPAN...|  SF|  94124|      B10|         17|6641|               3|       3|            3|  false|         null|        1|         TRUCK|                         2|                    10|                10|Bayview Hunters P...|(37.7309011761712...|020140082-T10| 1.1666666|\n",
      "|  20140085|   M36|       2004161|    Medical Incident|01/14/2002|01/14/2002|               Other|01/14/2002 10:16:...|600 Block of SOUT...|  SF|  94110|      B02|         07|5246|               3|       3|            3|   true|         null|        1|         MEDIC|                         1|                     2|                 9|             Mission|(37.7627737268131...|020140085-M36|      2.85|\n",
      "|  20140089|   E06|       2004162|    Medical Incident|01/14/2002|01/14/2002|               Other|01/14/2002 09:13:...|100 Block of JULI...|  SF|  94103|      B02|         06|5226|               3|       3|            3|  false|         null|        1|        ENGINE|                         1|                     2|                 9|             Mission|(37.7657838960434...|020140089-E06| 2.3166666|\n",
      "|  20140125|   M41|       2004181|    Medical Incident|01/14/2002|01/14/2002|               Other|01/14/2002 11:14:...|400 Block of GREE...|  SF|  94133|      B01|         28|1266|               3|       3|            3|   true|         null|        1|         MEDIC|                         2|                     1|                 3|         North Beach|(37.7997732125206...|020140125-M41| 2.7333333|\n",
      "|  20140170|   T01|       2004214|              Alarms|01/14/2002|01/14/2002|               Other|01/14/2002 12:17:...|600 Block of MISS...|  SF|  94105|      B03|         01|2178|               3|       3|            3|  false|         null|        1|         TRUCK|                         1|                     3|                 6|Financial Distric...|(37.7865888590763...|020140170-T01|       2.0|\n",
      "|  20140177|   E35|       2004216|    Medical Incident|01/14/2002|01/14/2002|               Other|01/14/2002 12:26:...|MONTGOMERY ST/SUT...|  SF|  94104|      B01|         13|1164|               3|       3|            3|  false|         null|        1|        ENGINE|                         3|                     1|                 3|Financial Distric...|(37.7900390948551...|020140177-E35|       2.8|\n",
      "|  20140177|   RS1|       2004216|    Medical Incident|01/14/2002|01/14/2002|               Other|01/14/2002 12:27:...|MONTGOMERY ST/SUT...|  SF|  94104|      B01|         13|1164|               3|       3|            3|  false|         null|        1|  RESCUE SQUAD|                         2|                     1|                 3|Financial Distric...|(37.7900390948551...|020140177-RS1|      7.25|\n",
      "|  20140180|   E33|       2004218|      Structure Fire|01/14/2002|01/14/2002|               Other|01/14/2002 12:38:...|MISSION ST/SICKLE...|  SF|  94112|      B09|         33|6213|               3|       3|            3|  false|         null|        1|        ENGINE|                         1|                     9|                11|       Outer Mission|(37.7088063383308...|020140180-E33| 1.3166667|\n",
      "|  20140209|   T13|       2004233|              Alarms|01/14/2002|01/14/2002|               Other|01/14/2002 01:52:...|2300 Block of FIL...|  SF|  94115|      B04|         38|3545|               3|       3|            3|   true|         null|        1|         TRUCK|                         3|                     4|                 2|     Pacific Heights|(37.791142743319,...|020140209-T13| 2.8833334|\n",
      "|  20140216|   E22|       2004238|      Structure Fire|01/14/2002|01/14/2002|               Other|01/14/2002 02:39:...|1500 Block of 26T...|  SF|  94122|      B08|         18|7475|               3|       3|            3|   true|         null|        1|        ENGINE|                         1|                     8|                 4|     Sunset/Parkside|(37.7585658388793...|020140216-E22|       2.3|\n",
      "|  20140253|   E36|       2004265|      Structure Fire|01/14/2002|01/14/2002|               Other|01/14/2002 04:37:...|0 Block of LARKIN ST|  SF|  94102|      B02|         36|1646|               3|       3|            3|  false|         null|        1|        ENGINE|                         1|                     2|                 6|          Tenderloin|(37.7775888205813...|020140253-E36| 1.8166667|\n",
      "|  20140254|   M01|       2004266|    Medical Incident|01/14/2002|01/14/2002|               Other|01/14/2002 05:13:...|100 Block of TURK ST|  SF|  94102|      B03|         01|1456|               3|       3|            3|   true|         null|        1|         MEDIC|                         2|                     3|                 6|          Tenderloin|(37.7830549681708...|020140254-M01| 3.5166667|\n",
      "|  20140276|   M36|       2004286|    Medical Incident|01/14/2002|01/14/2002|               Other|01/14/2002 05:34:...|CALL BOX: BUCHANA...|  SF|  94102|      B02|         05|3424|               2|       2|            2|   true|         null|        1|         MEDIC|                         1|                     2|                 5|        Hayes Valley|(37.7772298314861...|020140276-M36| 4.5333333|\n",
      "|  20140291|   E43|       2004297|   Electrical Hazard|01/14/2002|01/14/2002|               Other|01/14/2002 05:42:...|900 Block of PRAG...|  SF|  94112|      B09|         43|0622|               3|       3|            3|   true|         null|        1|        ENGINE|                         1|                     9|                11|           Excelsior|(37.7100115797557...|020140291-E43| 2.0666666|\n",
      "|  20140297|   E07|       2004303|      Structure Fire|01/14/2002|01/14/2002|               Other|01/14/2002 05:54:...|  22ND ST/MISSION ST|  SF|  94110|      B06|         07|5472|               3|       3|            3|  false|         null|        1|        ENGINE|                         1|                     6|                 9|             Mission|(37.7554369366673...|020140297-E07|0.81666666|\n",
      "|  20140306|   E34|       2004308|    Medical Incident|01/14/2002|01/14/2002|               Other|01/14/2002 06:34:...|800 Block of LA P...|  SF|  94121|      B07|         34|7311|               3|       3|            3|  false|         null|        1|        ENGINE|                         1|                     7|                 1|      Outer Richmond|(37.7723244294895...|020140306-E34| 4.2833333|\n",
      "|  20140352|   M07|       2004340|    Medical Incident|01/14/2002|01/14/2002|               Other|01/14/2002 09:31:...|  24TH ST/POTRERO AV|  SF|  94110|      B10|         37|2554|               3|       3|            3|   true|         null|        1|         MEDIC|                         1|                    10|                 9|             Mission|(37.7530040313925...|020140352-M07| 1.5166667|\n",
      "|  20140364|   M07|       2004350|    Medical Incident|01/14/2002|01/14/2002|               Other|01/14/2002 10:37:...|2700 Block of 16T...|  SF|  94110|      B02|         07|5237|               3|       3|            3|   true|         null|        1|         MEDIC|                         1|                     2|                 9|             Mission|(37.7653263612606...|020140364-M07| 2.1666667|\n",
      "|  20150001|   M36|       2004368|    Medical Incident|01/15/2002|01/14/2002|               Other|01/15/2002 12:30:...|    DUBOCE AV/NOE ST|  SF|  94114|      B05|         06|5131|               3|       3|            3|   true|         null|        1|         MEDIC|                         1|                     5|                 8|      Haight Ashbury|(37.7691783700971...|020150001-M36| 2.9833333|\n",
      "|  20150004|    94|       2004370|    Medical Incident|01/15/2002|01/14/2002|               Other|01/15/2002 01:26:...|    5TH ST/MARKET ST|  SF|  94103|      B03|         01|1364|               1|       1|            2|   true|         null|        1|         MEDIC|                         1|                     3|                 6|     South of Market|(37.7839914857614...| 020150004-94|      1.25|\n",
      "|  20150048|   RC2|       2004404|      Structure Fire|01/15/2002|01/14/2002|               Other|01/15/2002 06:31:...|700 Block of 35TH...|  SF|  94121|      B07|         34|7252|               3|       3|            3|   true|         null|        1|RESCUE CAPTAIN|                        10|                     7|                 1|      Outer Richmond|(37.7748832270511...|020150048-RC2| 3.5333333|\n",
      "|  20150048|   RS1|       2004404|      Structure Fire|01/15/2002|01/14/2002|               Other|01/15/2002 06:31:...|700 Block of 35TH...|  SF|  94121|      B07|         34|7252|               3|       3|            3|  false|         null|        1|  RESCUE SQUAD|                        11|                     7|                 1|      Outer Richmond|(37.7748832270511...|020150048-RS1| 1.9333333|\n",
      "|  20150056|   E35|       2004408|    Medical Incident|01/15/2002|01/14/2002|               Other|01/15/2002 06:53:...| 100 Block of 7TH ST|  SF|  94103|      B03|         08|2312|               3|       3|            3|  false|         null|        1|        ENGINE|                         2|                     3|                 6|     South of Market|(37.7790372933741...|020150056-E35| 11.916667|\n",
      "|  20150062|   B01|       2004412|              Alarms|01/15/2002|01/14/2002|               Other|01/15/2002 07:21:...|100 Block of FRAN...|  SF|  94133|      B01|         28|1225|               3|       3|            3|  false|         null|        1|         CHIEF|                         2|                     1|                 3|         North Beach|(37.8054738067872...|020150062-B01| 1.8833333|\n",
      "+----------+------+--------------+--------------------+----------+----------+--------------------+--------------------+--------------------+----+-------+---------+-----------+----+----------------+--------+-------------+-------+-------------+---------+--------------+--------------------------+----------------------+------------------+--------------------+--------------------+-------------+----------+\n",
      "only showing top 100 rows\n",
      "\n"
     ]
    }
   ],
   "source": [
    "# Use the DataFrameReader interface to read a CSV file\n",
    "sf_fire_file = \"/home/dgeison/projetos/LearningSparkV2/chapter3/data/sf-fire-calls.csv\"\n",
    "fire_df = spark.read.csv(sf_fire_file, header=True, schema=fire_schema)\n",
    "\n",
    "fire_df.show(100)\n"
   ]
  },
  {
   "cell_type": "code",
   "execution_count": 5,
   "metadata": {},
   "outputs": [
    {
     "name": "stdout",
     "output_type": "stream",
     "text": [
      "root\n",
      " |-- CallNumber: integer (nullable = true)\n",
      " |-- UnitID: string (nullable = true)\n",
      " |-- IncidentNumber: integer (nullable = true)\n",
      " |-- CallType: string (nullable = true)\n",
      " |-- CallDate: string (nullable = true)\n",
      " |-- WatchDate: string (nullable = true)\n",
      " |-- CallFinalDisposition: string (nullable = true)\n",
      " |-- AvailableDtTm: string (nullable = true)\n",
      " |-- Address: string (nullable = true)\n",
      " |-- City: string (nullable = true)\n",
      " |-- Zipcode: integer (nullable = true)\n",
      " |-- Battalion: string (nullable = true)\n",
      " |-- StationArea: string (nullable = true)\n",
      " |-- Box: string (nullable = true)\n",
      " |-- OriginalPriority: string (nullable = true)\n",
      " |-- Priority: string (nullable = true)\n",
      " |-- FinalPriority: integer (nullable = true)\n",
      " |-- ALSUnit: boolean (nullable = true)\n",
      " |-- CallTypeGroup: string (nullable = true)\n",
      " |-- NumAlarms: integer (nullable = true)\n",
      " |-- UnitType: string (nullable = true)\n",
      " |-- UnitSequenceInCallDispatch: integer (nullable = true)\n",
      " |-- FirePreventionDistrict: string (nullable = true)\n",
      " |-- SupervisorDistrict: string (nullable = true)\n",
      " |-- Neighborhood: string (nullable = true)\n",
      " |-- Location: string (nullable = true)\n",
      " |-- RowID: string (nullable = true)\n",
      " |-- Delay: float (nullable = true)\n",
      "\n"
     ]
    }
   ],
   "source": [
    "fire_df.printSchema()\n"
   ]
  },
  {
   "cell_type": "code",
   "execution_count": 6,
   "metadata": {},
   "outputs": [
    {
     "name": "stdout",
     "output_type": "stream",
     "text": [
      "+--------------+----------------------+--------------+\n",
      "|IncidentNumber|AvailableDtTm         |CallType      |\n",
      "+--------------+----------------------+--------------+\n",
      "|2003235       |01/11/2002 01:51:44 AM|Structure Fire|\n",
      "|2003250       |01/11/2002 04:16:46 AM|Vehicle Fire  |\n",
      "|2003259       |01/11/2002 06:01:58 AM|Alarms        |\n",
      "|2003279       |01/11/2002 08:03:26 AM|Structure Fire|\n",
      "|2003301       |01/11/2002 09:46:44 AM|Alarms        |\n",
      "+--------------+----------------------+--------------+\n",
      "only showing top 5 rows\n",
      "\n"
     ]
    }
   ],
   "source": [
    "# In Python\n",
    "few_fire_df = fire_df.select(\"IncidentNumber\", \"AvailableDtTm\", \"CallType\").where(\n",
    "    col(\"CallType\") != \"Medical Incident\"\n",
    ")\n",
    "few_fire_df.show(5, truncate=False)\n"
   ]
  },
  {
   "cell_type": "code",
   "execution_count": 7,
   "metadata": {},
   "outputs": [
    {
     "name": "stdout",
     "output_type": "stream",
     "text": [
      "+-----------------+\n",
      "|DistinctCallTypes|\n",
      "+-----------------+\n",
      "|               30|\n",
      "+-----------------+\n",
      "\n"
     ]
    }
   ],
   "source": [
    "# In Python, return number of distinct types of calls using countDistinct()\n",
    "from pyspark.sql.functions import *\n",
    "(fire_df\n",
    " .select(\"CallType\")\n",
    " .where(col(\"CallType\").isNotNull())\n",
    " .agg(countDistinct(\"CallType\").alias(\"DistinctCallTypes\"))\n",
    " .show())"
   ]
  },
  {
   "cell_type": "code",
   "execution_count": 8,
   "metadata": {},
   "outputs": [
    {
     "name": "stdout",
     "output_type": "stream",
     "text": [
      "+-----------------------------+\n",
      "|CallType                     |\n",
      "+-----------------------------+\n",
      "|Elevator / Escalator Rescue  |\n",
      "|Marine Fire                  |\n",
      "|Aircraft Emergency           |\n",
      "|Administrative               |\n",
      "|Alarms                       |\n",
      "|Odor (Strange / Unknown)     |\n",
      "|Citizen Assist / Service Call|\n",
      "|HazMat                       |\n",
      "|Watercraft in Distress       |\n",
      "|Explosion                    |\n",
      "+-----------------------------+\n",
      "only showing top 10 rows\n",
      "\n"
     ]
    }
   ],
   "source": [
    "# In Python, filter for only distinct non-null CallTypes from all the rows\n",
    "(fire_df\n",
    " .select(\"CallType\")\n",
    " .where(col(\"CallType\").isNotNull())\n",
    " .distinct()\n",
    " .show(10, False))"
   ]
  },
  {
   "cell_type": "code",
   "execution_count": 9,
   "metadata": {},
   "outputs": [
    {
     "name": "stdout",
     "output_type": "stream",
     "text": [
      "+---------------------+\n",
      "|ResponseDelayedinMins|\n",
      "+---------------------+\n",
      "|5.35                 |\n",
      "|6.25                 |\n",
      "|5.2                  |\n",
      "|5.6                  |\n",
      "|7.25                 |\n",
      "+---------------------+\n",
      "only showing top 5 rows\n",
      "\n"
     ]
    }
   ],
   "source": [
    "# In Python\n",
    "new_fire_df = fire_df.withColumnRenamed(\"Delay\", \"ResponseDelayedinMins\")\n",
    "(\n",
    "    new_fire_df.select(\"ResponseDelayedinMins\")\n",
    "    .where(col(\"ResponseDelayedinMins\") > 5)\n",
    "    .show(5, False)\n",
    ")"
   ]
  },
  {
   "cell_type": "code",
   "execution_count": 10,
   "metadata": {},
   "outputs": [
    {
     "name": "stdout",
     "output_type": "stream",
     "text": [
      "+-------------------+-------------------+-------------------+\n",
      "|IncidentDate       |OnWatchDate        |AvailableDtTS      |\n",
      "+-------------------+-------------------+-------------------+\n",
      "|2002-01-11 00:00:00|2002-01-10 00:00:00|2002-01-11 01:51:44|\n",
      "|2002-01-11 00:00:00|2002-01-10 00:00:00|2002-01-11 03:01:18|\n",
      "|2002-01-11 00:00:00|2002-01-10 00:00:00|2002-01-11 02:39:50|\n",
      "|2002-01-11 00:00:00|2002-01-10 00:00:00|2002-01-11 04:16:46|\n",
      "|2002-01-11 00:00:00|2002-01-10 00:00:00|2002-01-11 06:01:58|\n",
      "+-------------------+-------------------+-------------------+\n",
      "only showing top 5 rows\n",
      "\n"
     ]
    }
   ],
   "source": [
    "# In Python\n",
    "fire_ts_df = (\n",
    "    new_fire_df.withColumn(\"IncidentDate\", to_timestamp(col(\"CallDate\"), \"MM/dd/yyyy\"))\n",
    "    .drop(\"CallDate\")\n",
    "    .withColumn(\"OnWatchDate\", to_timestamp(col(\"WatchDate\"), \"MM/dd/yyyy\"))\n",
    "    .drop(\"WatchDate\")\n",
    "    .withColumn(\n",
    "        \"AvailableDtTS\", to_timestamp(col(\"AvailableDtTm\"), \"MM/dd/yyyy hh:mm:ss a\")\n",
    "    )\n",
    "    .drop(\"AvailableDtTm\")\n",
    ")\n",
    "\n",
    "# Select the converted columns\n",
    "(fire_ts_df.select(\"IncidentDate\", \"OnWatchDate\", \"AvailableDtTS\").show(5, False))"
   ]
  },
  {
   "cell_type": "code",
   "execution_count": 11,
   "metadata": {},
   "outputs": [
    {
     "name": "stdout",
     "output_type": "stream",
     "text": [
      "+----------+------+--------------+----------------+--------------------+---------------------------+----+-------+---------+-----------+----+----------------+--------+-------------+-------+-------------+---------+--------+--------------------------+----------------------+------------------+---------------------+-------------------------------------+-------------+---------------------+-------------------+-------------------+-------------------+\n",
      "|CallNumber|UnitID|IncidentNumber|CallType        |CallFinalDisposition|Address                    |City|Zipcode|Battalion|StationArea|Box |OriginalPriority|Priority|FinalPriority|ALSUnit|CallTypeGroup|NumAlarms|UnitType|UnitSequenceInCallDispatch|FirePreventionDistrict|SupervisorDistrict|Neighborhood         |Location                             |RowID        |ResponseDelayedinMins|IncidentDate       |OnWatchDate        |AvailableDtTS      |\n",
      "+----------+------+--------------+----------------+--------------------+---------------------------+----+-------+---------+-----------+----+----------------+--------+-------------+-------+-------------+---------+--------+--------------------------+----------------------+------------------+---------------------+-------------------------------------+-------------+---------------------+-------------------+-------------------+-------------------+\n",
      "|20110016  |T13   |2003235       |Structure Fire  |Other               |2000 Block of CALIFORNIA ST|SF  |94109  |B04      |38         |3362|3               |3       |3            |false  |null         |1        |TRUCK   |2                         |4                     |5                 |Pacific Heights      |(37.7895840679362, -122.428071912459)|020110016-T13|2.95                 |2002-01-11 00:00:00|2002-01-10 00:00:00|2002-01-11 01:51:44|\n",
      "|20110022  |M17   |2003241       |Medical Incident|Other               |0 Block of SILVERVIEW DR   |SF  |94124  |B10      |42         |6495|3               |3       |3            |true   |null         |1        |MEDIC   |1                         |10                    |10                |Bayview Hunters Point|(37.7337623673897, -122.396113802632)|020110022-M17|4.7                  |2002-01-11 00:00:00|2002-01-10 00:00:00|2002-01-11 03:01:18|\n",
      "|20110023  |M41   |2003242       |Medical Incident|Other               |MARKET ST/MCALLISTER ST    |SF  |94102  |B03      |01         |1455|3               |3       |3            |true   |null         |1        |MEDIC   |2                         |3                     |6                 |Tenderloin           |(37.7811772186856, -122.411699931232)|020110023-M41|2.4333334            |2002-01-11 00:00:00|2002-01-10 00:00:00|2002-01-11 02:39:50|\n",
      "|20110032  |E11   |2003250       |Vehicle Fire    |Other               |APPLETON AV/MISSION ST     |SF  |94110  |B06      |32         |5626|3               |3       |3            |false  |null         |1        |ENGINE  |1                         |6                     |9                 |Bernal Heights       |(37.7388432849018, -122.423948785199)|020110032-E11|1.5                  |2002-01-11 00:00:00|2002-01-10 00:00:00|2002-01-11 04:16:46|\n",
      "|20110043  |B04   |2003259       |Alarms          |Other               |1400 Block of SUTTER ST    |SF  |94109  |B04      |03         |3223|3               |3       |3            |false  |null         |1        |CHIEF   |2                         |4                     |2                 |Western Addition     |(37.7872890372638, -122.424236212664)|020110043-B04|3.4833333            |2002-01-11 00:00:00|2002-01-10 00:00:00|2002-01-11 06:01:58|\n",
      "+----------+------+--------------+----------------+--------------------+---------------------------+----+-------+---------+-----------+----+----------------+--------+-------------+-------+-------------+---------+--------+--------------------------+----------------------+------------------+---------------------+-------------------------------------+-------------+---------------------+-------------------+-------------------+-------------------+\n",
      "only showing top 5 rows\n",
      "\n"
     ]
    }
   ],
   "source": [
    "fire_ts_df.show(5, False)"
   ]
  },
  {
   "cell_type": "code",
   "execution_count": 12,
   "metadata": {},
   "outputs": [
    {
     "name": "stdout",
     "output_type": "stream",
     "text": [
      "+------------------+\n",
      "|year(IncidentDate)|\n",
      "+------------------+\n",
      "|              2000|\n",
      "|              2001|\n",
      "|              2002|\n",
      "|              2003|\n",
      "|              2004|\n",
      "|              2005|\n",
      "|              2006|\n",
      "|              2007|\n",
      "|              2008|\n",
      "|              2009|\n",
      "|              2010|\n",
      "|              2011|\n",
      "|              2012|\n",
      "|              2013|\n",
      "|              2014|\n",
      "|              2015|\n",
      "|              2016|\n",
      "|              2017|\n",
      "|              2018|\n",
      "+------------------+\n",
      "\n"
     ]
    }
   ],
   "source": [
    "# In Python\n",
    "(fire_ts_df\n",
    " .select(year('IncidentDate'))\n",
    " .distinct()\n",
    " .orderBy(year('IncidentDate'))\n",
    " .show())"
   ]
  },
  {
   "cell_type": "code",
   "execution_count": 13,
   "metadata": {},
   "outputs": [
    {
     "name": "stdout",
     "output_type": "stream",
     "text": [
      "+-------------------------------+------+\n",
      "|CallType                       |count |\n",
      "+-------------------------------+------+\n",
      "|Medical Incident               |113794|\n",
      "|Structure Fire                 |23319 |\n",
      "|Alarms                         |19406 |\n",
      "|Traffic Collision              |7013  |\n",
      "|Citizen Assist / Service Call  |2524  |\n",
      "|Other                          |2166  |\n",
      "|Outside Fire                   |2094  |\n",
      "|Vehicle Fire                   |854   |\n",
      "|Gas Leak (Natural and LP Gases)|764   |\n",
      "|Water Rescue                   |755   |\n",
      "+-------------------------------+------+\n",
      "only showing top 10 rows\n",
      "\n"
     ]
    }
   ],
   "source": [
    "# In Python\n",
    "(fire_ts_df\n",
    " .select(\"CallType\")\n",
    " .where(col(\"CallType\").isNotNull())\n",
    " .groupBy(\"CallType\")\n",
    " .count()\n",
    " .orderBy(\"count\", ascending=False)\n",
    " .show(n=10, truncate=False))"
   ]
  },
  {
   "cell_type": "code",
   "execution_count": 14,
   "metadata": {},
   "outputs": [
    {
     "name": "stdout",
     "output_type": "stream",
     "text": [
      "+--------------+--------------------------+--------------------------+--------------------------+\n",
      "|sum(NumAlarms)|avg(ResponseDelayedinMins)|min(ResponseDelayedinMins)|max(ResponseDelayedinMins)|\n",
      "+--------------+--------------------------+--------------------------+--------------------------+\n",
      "|        176170|         3.892364154521585|               0.016666668|                   1844.55|\n",
      "+--------------+--------------------------+--------------------------+--------------------------+\n",
      "\n"
     ]
    }
   ],
   "source": [
    "# In Python\n",
    "import pyspark.sql.functions as F\n",
    "(fire_ts_df\n",
    " .select(F.sum(\"NumAlarms\"), F.avg(\"ResponseDelayedinMins\"),\n",
    "         F.min(\"ResponseDelayedinMins\"), F.max(\"ResponseDelayedinMins\"))\n",
    " .show())"
   ]
  },
  {
   "attachments": {},
   "cell_type": "markdown",
   "metadata": {},
   "source": [
    "Quais foram todos os diferentes tipos de chamadas de incêndio em 2018?\n",
    "\n",
    "Que meses dentro do ano de 2018 viu o maior número de chamadas de incêndio?\n",
    "\n",
    "Qual bairro de São Francisco gerou mais chamadas de incêndio em 2018?\n",
    "\n",
    "Quais bairros tiveram os piores tempos de resposta a chamadas de incêndio em 2018?\n",
    "\n",
    "Qual semana do ano de 2018 teve mais chamadas de incêndio?\n",
    "\n",
    "Existe uma correlação entre vizinhança, CEP e número de chamadas de incêndio?\n",
    "\n",
    "Como podemos usar arquivos Parquet ou tabelas SQL para armazenar esses dados e lê-los de volta?"
   ]
  },
  {
   "cell_type": "code",
   "execution_count": 15,
   "metadata": {},
   "outputs": [],
   "source": [
    "# In Python\n",
    "from pyspark.sql import Row\n",
    "row = Row(350, True, \"Learning Spark 2E\", None)"
   ]
  },
  {
   "cell_type": "code",
   "execution_count": 25,
   "metadata": {},
   "outputs": [
    {
     "data": {
      "text/plain": [
       "True"
      ]
     },
     "execution_count": 25,
     "metadata": {},
     "output_type": "execute_result"
    }
   ],
   "source": [
    "row[1]"
   ]
  },
  {
   "cell_type": "code",
   "execution_count": 24,
   "metadata": {},
   "outputs": [
    {
     "data": {
      "text/plain": [
       "'Learning Spark 2E'"
      ]
     },
     "execution_count": 24,
     "metadata": {},
     "output_type": "execute_result"
    }
   ],
   "source": [
    "row[2]"
   ]
  },
  {
   "cell_type": "code",
   "execution_count": 26,
   "metadata": {},
   "outputs": [
    {
     "ename": "NameError",
     "evalue": "name 'mnm_df' is not defined",
     "output_type": "error",
     "traceback": [
      "\u001b[0;31m---------------------------------------------------------------------------\u001b[0m",
      "\u001b[0;31mNameError\u001b[0m                                 Traceback (most recent call last)",
      "Cell \u001b[0;32mIn[26], line 2\u001b[0m\n\u001b[1;32m      1\u001b[0m \u001b[39m# In Python\u001b[39;00m\n\u001b[0;32m----> 2\u001b[0m count_mnm_df \u001b[39m=\u001b[39m (mnm_df\n\u001b[1;32m      3\u001b[0m     \u001b[39m.\u001b[39mselect(\u001b[39m\"\u001b[39m\u001b[39mState\u001b[39m\u001b[39m\"\u001b[39m, \u001b[39m\"\u001b[39m\u001b[39mColor\u001b[39m\u001b[39m\"\u001b[39m, \u001b[39m\"\u001b[39m\u001b[39mCount\u001b[39m\u001b[39m\"\u001b[39m)\n\u001b[1;32m      4\u001b[0m     \u001b[39m.\u001b[39mgroupBy(\u001b[39m\"\u001b[39m\u001b[39mState\u001b[39m\u001b[39m\"\u001b[39m, \u001b[39m\"\u001b[39m\u001b[39mColor\u001b[39m\u001b[39m\"\u001b[39m)\n\u001b[1;32m      5\u001b[0m     \u001b[39m.\u001b[39magg(\u001b[39msum\u001b[39m(\u001b[39m\"\u001b[39m\u001b[39mCount\u001b[39m\u001b[39m\"\u001b[39m)\n\u001b[1;32m      6\u001b[0m     \u001b[39m.\u001b[39malias(\u001b[39m\"\u001b[39m\u001b[39mTotal\u001b[39m\u001b[39m\"\u001b[39m))\n\u001b[1;32m      7\u001b[0m     \u001b[39m.\u001b[39morderBy(\u001b[39m\"\u001b[39m\u001b[39mTotal\u001b[39m\u001b[39m\"\u001b[39m, ascending\u001b[39m=\u001b[39m\u001b[39mFalse\u001b[39;00m))\n",
      "\u001b[0;31mNameError\u001b[0m: name 'mnm_df' is not defined"
     ]
    }
   ],
   "source": [
    "# In Python\n",
    "count_mnm_df = (mnm_df\n",
    "    .select(\"State\", \"Color\", \"Count\")\n",
    "    .groupBy(\"State\", \"Color\")\n",
    "    .agg(sum(\"Count\")\n",
    "    .alias(\"Total\"))\n",
    "    .orderBy(\"Total\", ascending=False))"
   ]
  },
  {
   "cell_type": "code",
   "execution_count": null,
   "metadata": {},
   "outputs": [],
   "source": []
  }
 ],
 "metadata": {
  "kernelspec": {
   "display_name": ".pyenv",
   "language": "python",
   "name": "python3"
  },
  "language_info": {
   "codemirror_mode": {
    "name": "ipython",
    "version": 3
   },
   "file_extension": ".py",
   "mimetype": "text/x-python",
   "name": "python",
   "nbconvert_exporter": "python",
   "pygments_lexer": "ipython3",
   "version": "3.10.6"
  },
  "orig_nbformat": 4
 },
 "nbformat": 4,
 "nbformat_minor": 2
}
